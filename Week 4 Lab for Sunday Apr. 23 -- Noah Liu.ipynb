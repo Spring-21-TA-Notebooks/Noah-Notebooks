{
 "cells": [
  {
   "cell_type": "markdown",
   "metadata": {},
   "source": [
    "# Weclome to the Sunday Lab! "
   ]
  },
  {
   "cell_type": "markdown",
   "metadata": {},
   "source": [
    "# Lab Structure\n",
    "- Post the materials on the Github before the Lab\n",
    "\n",
    "\n",
    "- Review the asynchronous lecture on Wednesday\n",
    "\n",
    "\n",
    "- Q&A time\n",
    "\n",
    "\n",
    "- Stay at least 10 minutes \n",
    "\n",
    "\n",
    "- Update the notebook after the Lab if needed"
   ]
  },
  {
   "cell_type": "markdown",
   "metadata": {},
   "source": [
    "# HW2 Comments\n",
    "- Give examples after defining your functions with '''XXX'''\n",
    "\n",
    "\n",
    "- Local variables are inside the function body, not as keyword arguments --> def(a, b=10):"
   ]
  },
  {
   "cell_type": "code",
   "execution_count": 4,
   "metadata": {},
   "outputs": [
    {
     "data": {
      "text/plain": [
       "'\\nd = sum_two(1, 2)\\ne = sum_two(d, 4)\\nprint(d, e) \\n'"
      ]
     },
     "execution_count": 4,
     "metadata": {},
     "output_type": "execute_result"
    }
   ],
   "source": [
    "def sum_two(a, b):\n",
    "    c = a + b\n",
    "    return c\n",
    "\n",
    "'''\n",
    "d = sum_two(1, 2)\n",
    "e = sum_two(d, 4)\n",
    "print(d, e) \n",
    "'''"
   ]
  },
  {
   "cell_type": "markdown",
   "metadata": {},
   "source": [
    "# Task 1: Rent Payment"
   ]
  },
  {
   "cell_type": "code",
   "execution_count": 5,
   "metadata": {},
   "outputs": [],
   "source": [
    "\n",
    "class Person(): \n",
    "    def __init__(self, name, pronoun, food, pet = False): \n",
    "        self.name = name \n",
    "        self.pronoun = pronoun\n",
    "        self.food = food\n",
    "        self.pet = pet\n",
    "        assert(self.pet in ['cat', 'dog']), 'This appartment only accepts a cat or a dog as a pet'\n",
    "    \n",
    "    def summary(self):\n",
    "        print(f'{self.name}: {self.pronoun[1]} favorite food is {self.food}')\n",
    "        if self.pet:\n",
    "            print(f'{self.pronoun[0].capitalize()} has a {self.pet}')\n",
    "            \n",
    "        return [self.name, self.food, self.pet] \n",
    "   \n",
    "    def calc_rent(self, base_rent, utility_fee, pet_fee):\n",
    "        total_cost = base_rent\n",
    "        total_cost += utility_fee\n",
    "        if self.pet:\n",
    "            total_cost += pet_fee \n",
    "        assert(isinstance(total_cost, int)), 'Round each part of the prices to the nearest integer'  \n",
    "        return total_cost"
   ]
  },
  {
   "cell_type": "code",
   "execution_count": 7,
   "metadata": {},
   "outputs": [
    {
     "ename": "AssertionError",
     "evalue": "This appartment only accepts a cat or a dog as a pet",
     "output_type": "error",
     "traceback": [
      "\u001b[1;31m---------------------------------------------------------------------------\u001b[0m",
      "\u001b[1;31mAssertionError\u001b[0m                            Traceback (most recent call last)",
      "\u001b[1;32m<ipython-input-7-6a2bb4beace1>\u001b[0m in \u001b[0;36m<module>\u001b[1;34m\u001b[0m\n\u001b[1;32m----> 1\u001b[1;33m \u001b[0mnoah_info\u001b[0m \u001b[1;33m=\u001b[0m \u001b[0mPerson\u001b[0m\u001b[1;33m(\u001b[0m\u001b[1;34m'Noah'\u001b[0m\u001b[1;33m,\u001b[0m \u001b[1;33m[\u001b[0m\u001b[1;34m'he'\u001b[0m\u001b[1;33m,\u001b[0m\u001b[1;34m'his'\u001b[0m\u001b[1;33m]\u001b[0m\u001b[1;33m,\u001b[0m \u001b[1;34m'pizza'\u001b[0m\u001b[1;33m,\u001b[0m \u001b[1;34m'turtle'\u001b[0m\u001b[1;33m)\u001b[0m\u001b[1;33m\u001b[0m\u001b[1;33m\u001b[0m\u001b[0m\n\u001b[0m",
      "\u001b[1;32m<ipython-input-5-5ef96bc228b4>\u001b[0m in \u001b[0;36m__init__\u001b[1;34m(self, name, pronoun, food, pet)\u001b[0m\n\u001b[0;32m      5\u001b[0m         \u001b[0mself\u001b[0m\u001b[1;33m.\u001b[0m\u001b[0mfood\u001b[0m \u001b[1;33m=\u001b[0m \u001b[0mfood\u001b[0m\u001b[1;33m\u001b[0m\u001b[1;33m\u001b[0m\u001b[0m\n\u001b[0;32m      6\u001b[0m         \u001b[0mself\u001b[0m\u001b[1;33m.\u001b[0m\u001b[0mpet\u001b[0m \u001b[1;33m=\u001b[0m \u001b[0mpet\u001b[0m\u001b[1;33m\u001b[0m\u001b[1;33m\u001b[0m\u001b[0m\n\u001b[1;32m----> 7\u001b[1;33m         \u001b[1;32massert\u001b[0m\u001b[1;33m(\u001b[0m\u001b[0mself\u001b[0m\u001b[1;33m.\u001b[0m\u001b[0mpet\u001b[0m \u001b[1;32min\u001b[0m \u001b[1;33m[\u001b[0m\u001b[1;34m'cat'\u001b[0m\u001b[1;33m,\u001b[0m \u001b[1;34m'dog'\u001b[0m\u001b[1;33m]\u001b[0m\u001b[1;33m)\u001b[0m\u001b[1;33m,\u001b[0m \u001b[1;34m'This appartment only accepts a cat or a dog as a pet'\u001b[0m\u001b[1;33m\u001b[0m\u001b[1;33m\u001b[0m\u001b[0m\n\u001b[0m\u001b[0;32m      8\u001b[0m \u001b[1;33m\u001b[0m\u001b[0m\n\u001b[0;32m      9\u001b[0m     \u001b[1;32mdef\u001b[0m \u001b[0msummary\u001b[0m\u001b[1;33m(\u001b[0m\u001b[0mself\u001b[0m\u001b[1;33m)\u001b[0m\u001b[1;33m:\u001b[0m\u001b[1;33m\u001b[0m\u001b[1;33m\u001b[0m\u001b[0m\n",
      "\u001b[1;31mAssertionError\u001b[0m: This appartment only accepts a cat or a dog as a pet"
     ]
    }
   ],
   "source": [
    "noah_info = Person('Noah', ['he','his'], 'pizza', 'turtle') "
   ]
  },
  {
   "cell_type": "code",
   "execution_count": 8,
   "metadata": {},
   "outputs": [],
   "source": [
    "noah_info = Person('Noah', ['he','his'], 'pizza', 'dog') "
   ]
  },
  {
   "cell_type": "code",
   "execution_count": 9,
   "metadata": {},
   "outputs": [
    {
     "name": "stdout",
     "output_type": "stream",
     "text": [
      "Noah: his favorite food is pizza\n",
      "He has a dog\n"
     ]
    }
   ],
   "source": [
    "noah_sum = noah_info.summary()"
   ]
  },
  {
   "cell_type": "code",
   "execution_count": 11,
   "metadata": {},
   "outputs": [
    {
     "ename": "AssertionError",
     "evalue": "Round each part of the prices to the nearest integer",
     "output_type": "error",
     "traceback": [
      "\u001b[1;31m---------------------------------------------------------------------------\u001b[0m",
      "\u001b[1;31mAssertionError\u001b[0m                            Traceback (most recent call last)",
      "\u001b[1;32m<ipython-input-11-a01f67a90a29>\u001b[0m in \u001b[0;36m<module>\u001b[1;34m\u001b[0m\n\u001b[1;32m----> 1\u001b[1;33m \u001b[0mnoah_info\u001b[0m\u001b[1;33m.\u001b[0m\u001b[0mcalc_rent\u001b[0m\u001b[1;33m(\u001b[0m\u001b[1;36m649.9\u001b[0m\u001b[1;33m,\u001b[0m \u001b[1;36m100\u001b[0m\u001b[1;33m,\u001b[0m \u001b[1;36m100\u001b[0m\u001b[1;33m)\u001b[0m\u001b[1;33m\u001b[0m\u001b[1;33m\u001b[0m\u001b[0m\n\u001b[0m",
      "\u001b[1;32m<ipython-input-5-5ef96bc228b4>\u001b[0m in \u001b[0;36mcalc_rent\u001b[1;34m(self, base_rent, utility_fee, pet_fee)\u001b[0m\n\u001b[0;32m     19\u001b[0m         \u001b[1;32mif\u001b[0m \u001b[0mself\u001b[0m\u001b[1;33m.\u001b[0m\u001b[0mpet\u001b[0m\u001b[1;33m:\u001b[0m\u001b[1;33m\u001b[0m\u001b[1;33m\u001b[0m\u001b[0m\n\u001b[0;32m     20\u001b[0m             \u001b[0mtotal_cost\u001b[0m \u001b[1;33m+=\u001b[0m \u001b[0mpet_fee\u001b[0m\u001b[1;33m\u001b[0m\u001b[1;33m\u001b[0m\u001b[0m\n\u001b[1;32m---> 21\u001b[1;33m         \u001b[1;32massert\u001b[0m\u001b[1;33m(\u001b[0m\u001b[0misinstance\u001b[0m\u001b[1;33m(\u001b[0m\u001b[0mtotal_cost\u001b[0m\u001b[1;33m,\u001b[0m \u001b[0mint\u001b[0m\u001b[1;33m)\u001b[0m\u001b[1;33m)\u001b[0m\u001b[1;33m,\u001b[0m \u001b[1;34m'Round each part of the prices to the nearest integer'\u001b[0m\u001b[1;33m\u001b[0m\u001b[1;33m\u001b[0m\u001b[0m\n\u001b[0m\u001b[0;32m     22\u001b[0m         \u001b[1;32mreturn\u001b[0m \u001b[0mtotal_cost\u001b[0m\u001b[1;33m\u001b[0m\u001b[1;33m\u001b[0m\u001b[0m\n",
      "\u001b[1;31mAssertionError\u001b[0m: Round each part of the prices to the nearest integer"
     ]
    }
   ],
   "source": [
    "noah_info.calc_rent(649.9, 100, 100)"
   ]
  },
  {
   "cell_type": "code",
   "execution_count": 12,
   "metadata": {},
   "outputs": [
    {
     "data": {
      "text/plain": [
       "850"
      ]
     },
     "execution_count": 12,
     "metadata": {},
     "output_type": "execute_result"
    }
   ],
   "source": [
    "noah_info.calc_rent(650, 100, 100)"
   ]
  },
  {
   "cell_type": "markdown",
   "metadata": {},
   "source": [
    "# Task 2: Transcript System"
   ]
  },
  {
   "cell_type": "code",
   "execution_count": 22,
   "metadata": {},
   "outputs": [],
   "source": [
    "class StudentRecord():\n",
    "    def add_info(self):\n",
    "        # add three attributes\n",
    "        self.name = input(\"Student's name:\")\n",
    "        self.major = input(\"Student's major:\")\n",
    "        self.gpa = float(input(\"Student's GPA:\"))\n",
    "        assert(isinstance(self.gpa, float)), 'Please put a float instead'\n",
    "        assert((0 <= self.gpa and self.gpa <= 4)), \"Please put a number between 0 and 4\"\n",
    "\n",
    "    def get_data(self):\n",
    "        # returns a list of all information for a student\n",
    "        return [self.name, self.major, self.gpa]\n",
    "    \n",
    "    def same_major(self, another_student):\n",
    "        # check whether they are in the same major\n",
    "        if self.major == another_student.major:\n",
    "            print(self.name, 'has the same major with', another_student.name)\n",
    "        else:\n",
    "            print(self.name, 'does not have the same major with', another_student.name)"
   ]
  },
  {
   "cell_type": "code",
   "execution_count": 23,
   "metadata": {},
   "outputs": [],
   "source": [
    "'''\n",
    "John, sociology, 31, 3.1\n",
    "'''\n",
    "\n",
    "john = StudentRecord()"
   ]
  },
  {
   "cell_type": "code",
   "execution_count": 24,
   "metadata": {},
   "outputs": [
    {
     "name": "stdout",
     "output_type": "stream",
     "text": [
      "Student's name:John\n",
      "Student's major:sociology\n",
      "Student's GPA:3.1\n"
     ]
    }
   ],
   "source": [
    "john.add_info()"
   ]
  },
  {
   "cell_type": "code",
   "execution_count": 25,
   "metadata": {},
   "outputs": [],
   "source": [
    "class StudentRecord():\n",
    "    def add_info(self):\n",
    "        self.name = input(\"Student's name:\")\n",
    "        self.major = input(\"Student's major:\")\n",
    "        while True:\n",
    "            try:\n",
    "                self.gpa = float(input(\"Student's GPA:\"))\n",
    "                assert((0 <= self.gpa and self.gpa <= 4))\n",
    "            except ValueError:\n",
    "                print(\"Please put a number instead\" )\n",
    "                continue\n",
    "            except AssertionError:\n",
    "                print(\"Please put a number between 0 and 4\")\n",
    "                continue\n",
    "            else: \n",
    "                break\n",
    "        \n",
    "    def get_data(self):\n",
    "        # returns a list of all information for a student\n",
    "        return [self.name, self.major, self.gpa]\n",
    "    \n",
    "    def same_major(self, another_student):\n",
    "        # check whether they are in the same major\n",
    "        if self.major == another_student.major:\n",
    "            print(self.name, 'has the same major with', another_student.name)\n",
    "        else:\n",
    "            print(self.name, 'does not have the same major with', another_student.name)"
   ]
  },
  {
   "cell_type": "code",
   "execution_count": 26,
   "metadata": {},
   "outputs": [
    {
     "name": "stdout",
     "output_type": "stream",
     "text": [
      "Student's name:Noah\n",
      "Student's major:economics\n",
      "Student's GPA:3.7\n",
      "Student's name:John\n",
      "Student's major:sociology\n",
      "Student's GPA:31\n",
      "Please put a number between 0 and 4\n",
      "Student's GPA:3.1\n",
      "Student's name:Yijia\n",
      "Student's major:economics\n",
      "Student's GPA:x\n",
      "Please put a number instead\n",
      "Student's GPA:3.9\n"
     ]
    }
   ],
   "source": [
    "'''\n",
    "Noah, economics, 3.7\n",
    "John, sociology, 31, 3.1\n",
    "Yijia, economics, x, 3.9\n",
    "'''\n",
    "\n",
    "noah = StudentRecord()\n",
    "john = StudentRecord()\n",
    "yijia = StudentRecord()\n",
    "\n",
    "noah.add_info()\n",
    "john.add_info()\n",
    "yijia.add_info()\n"
   ]
  },
  {
   "cell_type": "code",
   "execution_count": 27,
   "metadata": {},
   "outputs": [
    {
     "data": {
      "text/plain": [
       "['Noah', 'economics', 3.7]"
      ]
     },
     "execution_count": 27,
     "metadata": {},
     "output_type": "execute_result"
    }
   ],
   "source": [
    "noah.get_data()"
   ]
  },
  {
   "cell_type": "code",
   "execution_count": 28,
   "metadata": {},
   "outputs": [
    {
     "name": "stdout",
     "output_type": "stream",
     "text": [
      "Noah has the same major with Yijia\n"
     ]
    }
   ],
   "source": [
    "noah.same_major(yijia)"
   ]
  },
  {
   "cell_type": "code",
   "execution_count": 29,
   "metadata": {},
   "outputs": [
    {
     "name": "stdout",
     "output_type": "stream",
     "text": [
      "[['Noah', 'economics', 3.7], ['John', 'sociology', 3.1], ['Yijia', 'economics', 3.9]]\n"
     ]
    }
   ],
   "source": [
    "all_info = []\n",
    "for ins in [noah, john, yijia]:\n",
    "    all_info.append(ins.get_data())\n",
    "print(all_info)"
   ]
  },
  {
   "cell_type": "code",
   "execution_count": 31,
   "metadata": {},
   "outputs": [
    {
     "name": "stdout",
     "output_type": "stream",
     "text": [
      "[['Yijia', 'economics', 3.9], ['Noah', 'economics', 3.7], ['John', 'sociology', 3.1]]\n"
     ]
    }
   ],
   "source": [
    "# Cite: https://stackoverflow.com/questions/4174941/how-to-sort-a-list-of-lists-by-a-specific-index-of-the-inner-list\n",
    "all_info.sort(key=lambda x: x[2], reverse=True)\n",
    "print(all_info)"
   ]
  },
  {
   "cell_type": "code",
   "execution_count": 32,
   "metadata": {},
   "outputs": [
    {
     "name": "stdout",
     "output_type": "stream",
     "text": [
      "[['John', 'sociology', 3.1], ['Noah', 'economics', 3.7], ['Yijia', 'economics', 3.9]]\n"
     ]
    }
   ],
   "source": [
    "all_info.sort(key=lambda x: x[2], reverse=False)\n",
    "print(all_info)"
   ]
  },
  {
   "cell_type": "markdown",
   "metadata": {},
   "source": [
    "# Questions"
   ]
  },
  {
   "cell_type": "code",
   "execution_count": null,
   "metadata": {},
   "outputs": [],
   "source": []
  }
 ],
 "metadata": {
  "kernelspec": {
   "display_name": "Python 3",
   "language": "python",
   "name": "python3"
  },
  "language_info": {
   "codemirror_mode": {
    "name": "ipython",
    "version": 3
   },
   "file_extension": ".py",
   "mimetype": "text/x-python",
   "name": "python",
   "nbconvert_exporter": "python",
   "pygments_lexer": "ipython3",
   "version": "3.7.6"
  }
 },
 "nbformat": 4,
 "nbformat_minor": 4
}
