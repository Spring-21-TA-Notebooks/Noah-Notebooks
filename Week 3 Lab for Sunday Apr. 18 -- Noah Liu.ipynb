{
 "cells": [
  {
   "cell_type": "markdown",
   "metadata": {},
   "source": [
    "# Weclome to the Sunday Lab! "
   ]
  },
  {
   "cell_type": "markdown",
   "metadata": {},
   "source": [
    "# Lab Structure\n",
    "- Post the materials on the Github before the Lab\n",
    "\n",
    "\n",
    "- Review the asynchronous lecture on Wednesday\n",
    "\n",
    "\n",
    "- Q&A time\n",
    "\n",
    "\n",
    "- Stay at least 10 minutes \n",
    "\n",
    "\n",
    "- Update the notebook after the Lab if needed"
   ]
  },
  {
   "cell_type": "markdown",
   "metadata": {},
   "source": [
    "# HW1 Comment\n",
    "- commit >= 3\n",
    "\n",
    "\n",
    "- Comment your code\n",
    "\n",
    "\n",
    "- Name your variabls wisely\n",
    "\n",
    "\n",
    "- Try to use knowledge from the class\n",
    "\n",
    "\n",
    "- Understand the list and dict comprehension --> [......] and {......}"
   ]
  },
  {
   "cell_type": "markdown",
   "metadata": {},
   "source": [
    "# Definitions\n",
    "\n",
    "- Global Variable: a variable declared outside of the function \n",
    "\n",
    "\n",
    "- Local Variable: a variable declared inside the function's body \n",
    "\n",
    "\n",
    "- See more at https://www.programiz.com/python-programming/global-local-nonlocal-variables#:~:text=in%20your%20browser.-,Global%20Variables,or%20outside%20of%20the%20function\n",
    "\n",
    "\n",
    "- Positional Argumemt: a variable, value or object passed to a function or method as input\n",
    "\n",
    "\n",
    "- Keyword Argument: an argument passed to a function or method which is preceded by a keyword and an equal sign\n",
    "\n",
    "\n",
    "- See more at https://problemsolvingwithpython.com/07-Functions-and-Modules/07.07-Positional-and-Keyword-Arguments/#:~:text=Python%20functions%20can%20contain%20two,a%20keyword%20and%20equals%20sign."
   ]
  },
  {
   "cell_type": "markdown",
   "metadata": {},
   "source": [
    "# Task 1: Transcript System"
   ]
  },
  {
   "cell_type": "code",
   "execution_count": 2,
   "metadata": {},
   "outputs": [],
   "source": [
    "class StudentRecord():\n",
    "    def __init__(self, name, major, GPA):\n",
    "        # add three arguments\n",
    "        self.name = name\n",
    "        self.major = major\n",
    "        self.GPA = GPA\n",
    "        \n",
    "    def get_data(self):\n",
    "        # returns a list of all information for a student\n",
    "        return [self.name, self.major, self.GPA]\n",
    "    \n",
    "    def same_major(self, another_student):\n",
    "        # check whether they are in the same major\n",
    "        if self.major == another_student.major:\n",
    "            print(self.name, 'has the same major with', another_student.name)\n",
    "        else:\n",
    "            print(self.name, 'does not have the same major with', another_student.name)\n",
    "            \n"
   ]
  },
  {
   "cell_type": "code",
   "execution_count": 5,
   "metadata": {},
   "outputs": [
    {
     "name": "stdout",
     "output_type": "stream",
     "text": [
      "['John', 'sociology', 3.1]\n",
      "Yijia has the same major with Noah\n"
     ]
    }
   ],
   "source": [
    "# Create three instances\n",
    "noah = StudentRecord('Noah', 'economics', 3.7)\n",
    "john = StudentRecord('John', 'sociology', 3.1)\n",
    "yijia = StudentRecord('Yijia', 'economics', 3.9)\n",
    "\n",
    "print(john.get_data())\n",
    "yijia.same_major(noah)"
   ]
  },
  {
   "cell_type": "markdown",
   "metadata": {},
   "source": [
    "# Task 2: Rent Payment"
   ]
  },
  {
   "cell_type": "code",
   "execution_count": 10,
   "metadata": {},
   "outputs": [],
   "source": [
    "class Person(): \n",
    "    def __init__(self, name, pronoun, food, location, pet = False): \n",
    "        self.name = name \n",
    "        self.pronoun = pronoun\n",
    "        self.food = food\n",
    "        self.location = location\n",
    "        self.pet = pet\n",
    "    \n",
    "    def summary(self):\n",
    "        print(f'{self.name}: {self.pronoun[1]} favorite food is {self.food} and {self.pronoun[0]} lives in {self.location}')\n",
    "        if self.pet:\n",
    "            print(f'{self.pronoun[0].capitalize()} has a {self.pet}')\n",
    "            \n",
    "        return [self.name, self.food, self.location, self.pet] \n",
    "   \n",
    "    def calc_rent(self, base_rent, utility_fee, pet_fee):\n",
    "        total_cost = base_rent\n",
    "        total_cost += utility_fee\n",
    "        if self.pet:\n",
    "            total_cost += pet_fee \n",
    "            \n",
    "        return total_cost"
   ]
  },
  {
   "cell_type": "code",
   "execution_count": 11,
   "metadata": {},
   "outputs": [],
   "source": [
    "noah_info = Person('Noah', ['he','his'], 'pizza', 'Chicago') "
   ]
  },
  {
   "cell_type": "code",
   "execution_count": 12,
   "metadata": {},
   "outputs": [
    {
     "name": "stdout",
     "output_type": "stream",
     "text": [
      "Noah: his favorite food is pizza and he lives in Chicago\n"
     ]
    }
   ],
   "source": [
    "noah_sum = noah_info.summary()"
   ]
  },
  {
   "cell_type": "code",
   "execution_count": 13,
   "metadata": {},
   "outputs": [
    {
     "name": "stdout",
     "output_type": "stream",
     "text": [
      "['Noah', 'pizza', 'Chicago', False]\n"
     ]
    }
   ],
   "source": [
    "print(noah_sum)"
   ]
  },
  {
   "cell_type": "code",
   "execution_count": 14,
   "metadata": {},
   "outputs": [
    {
     "data": {
      "text/plain": [
       "750"
      ]
     },
     "execution_count": 14,
     "metadata": {},
     "output_type": "execute_result"
    }
   ],
   "source": [
    "noah_info.calc_rent(650, 100, False)"
   ]
  },
  {
   "cell_type": "code",
   "execution_count": 15,
   "metadata": {},
   "outputs": [],
   "source": [
    "noah_info_2 = Person('Noah', ['he','his'], 'pizza', 'Chicago', 'Turtle') "
   ]
  },
  {
   "cell_type": "code",
   "execution_count": 16,
   "metadata": {},
   "outputs": [
    {
     "name": "stdout",
     "output_type": "stream",
     "text": [
      "Noah: his favorite food is pizza and he lives in Chicago\n",
      "He has a Turtle\n"
     ]
    }
   ],
   "source": [
    "noah_sum_2 = noah_info_2.summary()"
   ]
  },
  {
   "cell_type": "code",
   "execution_count": 17,
   "metadata": {},
   "outputs": [
    {
     "data": {
      "text/plain": [
       "850"
      ]
     },
     "execution_count": 17,
     "metadata": {},
     "output_type": "execute_result"
    }
   ],
   "source": [
    "noah_info_2.calc_rent(650, 100, 100)"
   ]
  },
  {
   "cell_type": "markdown",
   "metadata": {},
   "source": [
    "# Questions"
   ]
  },
  {
   "cell_type": "code",
   "execution_count": null,
   "metadata": {},
   "outputs": [],
   "source": []
  }
 ],
 "metadata": {
  "kernelspec": {
   "display_name": "Python 3",
   "language": "python",
   "name": "python3"
  },
  "language_info": {
   "codemirror_mode": {
    "name": "ipython",
    "version": 3
   },
   "file_extension": ".py",
   "mimetype": "text/x-python",
   "name": "python",
   "nbconvert_exporter": "python",
   "pygments_lexer": "ipython3",
   "version": "3.7.6"
  }
 },
 "nbformat": 4,
 "nbformat_minor": 4
}
