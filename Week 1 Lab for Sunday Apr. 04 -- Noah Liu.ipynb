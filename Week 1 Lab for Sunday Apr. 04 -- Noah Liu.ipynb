{
 "cells": [
  {
   "cell_type": "markdown",
   "metadata": {},
   "source": [
    "# Weclome to the Sunday Lab! "
   ]
  },
  {
   "cell_type": "markdown",
   "metadata": {},
   "source": [
    "# Lab Structure\n",
    "- Post the materials on the Github before the Lab\n",
    "\n",
    "\n",
    "- Review the asynchronous lecture on Wednesday\n",
    "\n",
    "\n",
    "- Q&A time\n",
    "\n",
    "\n",
    "- Stay at least 10 minutes \n",
    "\n",
    "\n",
    "- Update the notebook after the Lab if needed"
   ]
  },
  {
   "cell_type": "markdown",
   "metadata": {},
   "source": [
    "# Lab Basics\n",
    "- You are required to attend one synchronous lab per week. A more-than-10-minutes stay will give you the attendance score (Zoom is watching you!).  We'll update the lab attendance on Canvas periodically, but feel free to reach out if I didn't give the credit for a lab you attended.\n",
    "\n",
    "\n",
    "- You need a Tuesday Lab & an after-Tuesday Lab to learn all materials of the week. I will focus more on the Wednesday asynchronous lecture. Feel free to attend any labs that work best for you.\n",
    "\n",
    "\n",
    "- Feel free to unmute yourself and interrupt me with questions any time!    I would prefer you have your video on, but I understand if you choose not to do so, especially when you are lying on the bed in the early morning.\n",
    "\n",
    "\n",
    "- All of the TAs' lab code will be accessible through GitHub (https://github.com/Spring-21-TA-Notebooks)."
   ]
  },
  {
   "cell_type": "markdown",
   "metadata": {},
   "source": [
    "# Grading Basics\n",
    "- Grades will be updated on Canvas, and feedback will be pushed to your repositories. Let us know if you find inconsistencies between your grade on Canvas and on GitHub.\n",
    "\n",
    "\n",
    "- We are always happy to answer any questions or confusion about grading. The most efficient way to do this is to email your grader (you'll see your grader's name when they push comments to your repo). You can also email your grader with a regrade request, given you have a valid reason."
   ]
  },
  {
   "cell_type": "markdown",
   "metadata": {},
   "source": [
    "# Citing Code\n",
    "- We encourage you to search online when you have coding questions. Google, Stack Overflow, GeeksforGeeks always have the answers.\n",
    "\n",
    "\n",
    "- you need to cite your source as a comment in your code and be sure not to copy the code directly. We need to see that you understand the code and make it your own."
   ]
  },
  {
   "cell_type": "code",
   "execution_count": 4,
   "metadata": {},
   "outputs": [
    {
     "name": "stdout",
     "output_type": "stream",
     "text": [
      "Hello World!\n"
     ]
    }
   ],
   "source": [
    "# Cite: https://www.hackerrank.com/challenges/py-hello-world/problem\n",
    "print('Hello World!')"
   ]
  },
  {
   "cell_type": "markdown",
   "metadata": {},
   "source": [
    "# Late Tokens\n",
    "\n",
    "- If using late tokens, add a comment at the top of your homework letting us know how many late tokens you are using for the assignment and how many you have left."
   ]
  },
  {
   "cell_type": "markdown",
   "metadata": {},
   "source": [
    "# Questions"
   ]
  },
  {
   "cell_type": "code",
   "execution_count": null,
   "metadata": {},
   "outputs": [],
   "source": []
  }
 ],
 "metadata": {
  "kernelspec": {
   "display_name": "Python 3",
   "language": "python",
   "name": "python3"
  },
  "language_info": {
   "codemirror_mode": {
    "name": "ipython",
    "version": 3
   },
   "file_extension": ".py",
   "mimetype": "text/x-python",
   "name": "python",
   "nbconvert_exporter": "python",
   "pygments_lexer": "ipython3",
   "version": "3.7.6"
  }
 },
 "nbformat": 4,
 "nbformat_minor": 4
}
