{
 "cells": [
  {
   "cell_type": "markdown",
   "metadata": {},
   "source": [
    "# Weclome to the Sunday Lab! \n",
    "# Lab Structure\n",
    "- Post the materials on the Github before the Lab\n",
    "\n",
    "\n",
    "- Review the asynchronous lecture on Wednesday\n",
    "\n",
    "\n",
    "- Q&A time\n",
    "\n",
    "\n",
    "- Stay at least 10 minutes \n",
    "\n",
    "\n",
    "- Update the notebook after the Lab if needed"
   ]
  },
  {
   "cell_type": "markdown",
   "metadata": {},
   "source": [
    "# If Statement Block"
   ]
  },
  {
   "cell_type": "code",
   "execution_count": 53,
   "metadata": {},
   "outputs": [],
   "source": [
    "ap_score = 75\n",
    "econ_score = 86\n",
    "stats_score = 97"
   ]
  },
  {
   "cell_type": "code",
   "execution_count": 76,
   "metadata": {},
   "outputs": [
    {
     "name": "stdout",
     "output_type": "stream",
     "text": [
      "I got a C in ap\n"
     ]
    }
   ],
   "source": [
    "if ap_score >= 90:\n",
    "    print('I got a A in ap')\n",
    "elif (ap_score < 90) & (ap_score >= 80):\n",
    "    print('I got a B in ap')\n",
    "else:\n",
    "    print('I got a C in ap')"
   ]
  },
  {
   "cell_type": "code",
   "execution_count": 77,
   "metadata": {},
   "outputs": [],
   "source": [
    "my_var = 7"
   ]
  },
  {
   "cell_type": "code",
   "execution_count": 79,
   "metadata": {},
   "outputs": [],
   "source": [
    "my_var = '7'"
   ]
  },
  {
   "cell_type": "code",
   "execution_count": 81,
   "metadata": {},
   "outputs": [],
   "source": [
    "my_var = 75"
   ]
  },
  {
   "cell_type": "code",
   "execution_count": 83,
   "metadata": {},
   "outputs": [],
   "source": [
    "my_var = 76.5"
   ]
  },
  {
   "cell_type": "code",
   "execution_count": 84,
   "metadata": {},
   "outputs": [
    {
     "name": "stdout",
     "output_type": "stream",
     "text": [
      "It is not a string nor an int\n"
     ]
    }
   ],
   "source": [
    "# isinstance tests for a certain data type\n",
    "if isinstance(my_var, str): \n",
    "    print(\"It is a string\")\n",
    "elif isinstance(my_var, int):\n",
    "    if my_var % 2 == 0:\n",
    "        print('It is an even integer')\n",
    "    elif my_var % 5 == 0:\n",
    "        print('It can be divided by 5')\n",
    "    else:\n",
    "        print('This int is neither divisible by 2 or by 5')\n",
    "else:\n",
    "    print('It is not a string nor an int')"
   ]
  },
  {
   "cell_type": "markdown",
   "metadata": {},
   "source": [
    "# For & While Loops"
   ]
  },
  {
   "cell_type": "code",
   "execution_count": 60,
   "metadata": {},
   "outputs": [],
   "source": [
    "my_vars = ['wine', 'beer', 'diet coke', 'gasoline']\n",
    "ideal_pick = ['beer', 'wine']"
   ]
  },
  {
   "cell_type": "code",
   "execution_count": 85,
   "metadata": {},
   "outputs": [
    {
     "name": "stdout",
     "output_type": "stream",
     "text": [
      "Can I have some wine?\n",
      "Can I have some beer?\n",
      "I don't drink diet coke!\n",
      "I don't drink gasoline!\n"
     ]
    }
   ],
   "source": [
    "for i in my_vars:\n",
    "    if i in ideal_pick:\n",
    "        print('Can I have some '+ i + '?')\n",
    "    else:\n",
    "        print(\"I don't drink \" + i + '!' )"
   ]
  },
  {
   "cell_type": "code",
   "execution_count": 86,
   "metadata": {},
   "outputs": [
    {
     "name": "stdout",
     "output_type": "stream",
     "text": [
      "Can I have some wine?\n",
      "Can I have some beer?\n",
      "Diet coke is not real coke\n"
     ]
    }
   ],
   "source": [
    "for i in my_vars:\n",
    "    if i in ideal_pick:\n",
    "        print('Can I have some '+ i + '?')\n",
    "    elif i == 'diet coke':\n",
    "        print(\"Diet coke is not real coke\")\n",
    "        break\n",
    "    else:\n",
    "        print(\"I don't drink \" + i + '!' )"
   ]
  },
  {
   "cell_type": "code",
   "execution_count": 89,
   "metadata": {},
   "outputs": [
    {
     "name": "stdout",
     "output_type": "stream",
     "text": [
      "Diet coke is not real coke\n",
      "I don't drink gasoline!\n"
     ]
    }
   ],
   "source": [
    "for i in my_vars:\n",
    "    if i in ideal_pick:\n",
    "        continue\n",
    "        print('Can I have some '+ i + '?')\n",
    "    elif i == 'diet coke':\n",
    "        print('Diet coke is not real coke')\n",
    "    else:\n",
    "        print(\"I don't drink \" + i + '!' )"
   ]
  },
  {
   "cell_type": "code",
   "execution_count": 64,
   "metadata": {},
   "outputs": [
    {
     "name": "stdout",
     "output_type": "stream",
     "text": [
      "ap 75\n",
      "econ 86\n",
      "stats 97\n"
     ]
    }
   ],
   "source": [
    "my_dict = {'ap': 75, 'econ': 86, 'stats': 97}\n",
    "\n",
    "for key, value in my_dict.items():\n",
    "    print(key, value)"
   ]
  },
  {
   "cell_type": "code",
   "execution_count": 65,
   "metadata": {},
   "outputs": [
    {
     "name": "stdout",
     "output_type": "stream",
     "text": [
      "I got 75 in my ap course\n",
      "I got 86 in my econ course\n",
      "I got 97 in my stats course\n"
     ]
    }
   ],
   "source": [
    "for key, value in my_dict.items():\n",
    "    print(f'I got {value} in my {key} course')"
   ]
  },
  {
   "cell_type": "code",
   "execution_count": 66,
   "metadata": {},
   "outputs": [
    {
     "name": "stdout",
     "output_type": "stream",
     "text": [
      "('ap', 75)\n",
      "('econ', 86)\n",
      "('stats', 97)\n"
     ]
    }
   ],
   "source": [
    "courses = ['ap', 'econ', 'stats']\n",
    "scores = [75, 86, 97]\n",
    "\n",
    "# Pack two lists\n",
    "# The zip() function takes iterables (can be zero or more), aggregates them in a tuple, and return it.\n",
    "for i in zip(courses, scores):\n",
    "    print(i)"
   ]
  },
  {
   "cell_type": "code",
   "execution_count": 90,
   "metadata": {},
   "outputs": [
    {
     "name": "stdout",
     "output_type": "stream",
     "text": [
      "My car doesn't need wine!\n",
      "My car doesn't need beer!\n",
      "My car doesn't need diet coke!\n",
      "That is what my car needs\n"
     ]
    }
   ],
   "source": [
    "my_vars = ['wine', 'beer', 'diet coke', 'gasoline']\n",
    "loc = 0\n",
    "\n",
    "while my_vars[loc] != 'gasoline':\n",
    "    print(f\"My car doesn't need {my_vars[loc]}!\")\n",
    "    # Same as loc = loc + 1\n",
    "    loc += 1\n",
    "else:\n",
    "    print('That is what my car needs')   "
   ]
  },
  {
   "cell_type": "markdown",
   "metadata": {},
   "source": [
    "# List & Dictionary Compresions"
   ]
  },
  {
   "cell_type": "code",
   "execution_count": 68,
   "metadata": {},
   "outputs": [
    {
     "name": "stdout",
     "output_type": "stream",
     "text": [
      "[75, 86, 97]\n"
     ]
    }
   ],
   "source": [
    "transcript = [ap_score, econ_score, stats_score]\n",
    "print(transcript)"
   ]
  },
  {
   "cell_type": "code",
   "execution_count": 69,
   "metadata": {},
   "outputs": [
    {
     "data": {
      "text/plain": [
       "[78, 89, 100]"
      ]
     },
     "execution_count": 69,
     "metadata": {},
     "output_type": "execute_result"
    }
   ],
   "source": [
    "[i + 3 for i in transcript]"
   ]
  },
  {
   "cell_type": "code",
   "execution_count": 70,
   "metadata": {},
   "outputs": [
    {
     "name": "stdout",
     "output_type": "stream",
     "text": [
      "{'ap': 78, 'econ': 89, 'stats': 100}\n"
     ]
    }
   ],
   "source": [
    "my_dict = {'ap': 75, 'econ': 86, 'stats': 97}\n",
    "\n",
    "new_dict = {key: value + 3  for key, value in my_dict.items()}\n",
    "print(new_dict)"
   ]
  },
  {
   "cell_type": "code",
   "execution_count": 91,
   "metadata": {},
   "outputs": [
    {
     "data": {
      "text/plain": [
       "[97]"
      ]
     },
     "execution_count": 91,
     "metadata": {},
     "output_type": "execute_result"
    }
   ],
   "source": [
    "[i for i in transcript if i > 90]"
   ]
  },
  {
   "cell_type": "code",
   "execution_count": 92,
   "metadata": {},
   "outputs": [
    {
     "data": {
      "text/plain": [
       "['pass', 86, 97]"
      ]
     },
     "execution_count": 92,
     "metadata": {},
     "output_type": "execute_result"
    }
   ],
   "source": [
    "# Cite: https://stackoverflow.com/questions/4260280/if-else-in-a-list-comprehension\n",
    "['pass' if i == ap_score else i for i in transcript]"
   ]
  },
  {
   "cell_type": "code",
   "execution_count": 93,
   "metadata": {},
   "outputs": [
    {
     "data": {
      "text/plain": [
       "['C', 'B', 'A']"
      ]
     },
     "execution_count": 93,
     "metadata": {},
     "output_type": "execute_result"
    }
   ],
   "source": [
    "['C' if i < 80 else 'B' if (i > 80 and i <= 90) else 'A' for i in transcript]"
   ]
  },
  {
   "cell_type": "code",
   "execution_count": 94,
   "metadata": {},
   "outputs": [
    {
     "data": {
      "text/plain": [
       "['C', 'B', 'B']"
      ]
     },
     "execution_count": 94,
     "metadata": {},
     "output_type": "execute_result"
    }
   ],
   "source": [
    "# Learn more at https://stackoverflow.com/questions/22646463/and-boolean-vs-bitwise-why-difference-in-behavior-with-lists-vs-nump\n",
    "['C' if i < 80 else 'B' if (i > 80 & i <= 90) else 'A' for i in transcript]"
   ]
  },
  {
   "cell_type": "code",
   "execution_count": 95,
   "metadata": {},
   "outputs": [
    {
     "data": {
      "text/plain": [
       "['C', 'B', 'A']"
      ]
     },
     "execution_count": 95,
     "metadata": {},
     "output_type": "execute_result"
    }
   ],
   "source": [
    "['C' if i < 80 else 'B' if (i > 80) & (i < 90) else 'A' for i in transcript]"
   ]
  },
  {
   "cell_type": "markdown",
   "metadata": {},
   "source": [
    "# Questions"
   ]
  },
  {
   "cell_type": "code",
   "execution_count": null,
   "metadata": {},
   "outputs": [],
   "source": []
  }
 ],
 "metadata": {
  "kernelspec": {
   "display_name": "Python 3",
   "language": "python",
   "name": "python3"
  },
  "language_info": {
   "codemirror_mode": {
    "name": "ipython",
    "version": 3
   },
   "file_extension": ".py",
   "mimetype": "text/x-python",
   "name": "python",
   "nbconvert_exporter": "python",
   "pygments_lexer": "ipython3",
   "version": "3.7.6"
  }
 },
 "nbformat": 4,
 "nbformat_minor": 4
}
