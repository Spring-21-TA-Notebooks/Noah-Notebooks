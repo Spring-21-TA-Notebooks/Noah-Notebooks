{
 "cells": [
  {
   "cell_type": "markdown",
   "metadata": {},
   "source": [
    "# Weclome to the Sunday Lab! "
   ]
  },
  {
   "cell_type": "markdown",
   "metadata": {},
   "source": [
    "# Lab Structure\n",
    "- Post the materials on the Github before the Lab\n",
    "\n",
    "\n",
    "- Review the asynchronous lecture on Wednesday\n",
    "\n",
    "\n",
    "- Q&A time\n",
    "\n",
    "\n",
    "- Stay at least 10 minutes \n",
    "\n",
    "\n",
    "- Update the notebook after the Lab if needed"
   ]
  },
  {
   "cell_type": "markdown",
   "metadata": {},
   "source": [
    "# HW3 Comments\n",
    "- Specify the type of error in try/except\n",
    "\n",
    "\n",
    "- Use while true instead of n = 1  while n > 1 to create a continuous loop\n",
    "\n",
    "\n",
    "- Commit at least 3 times"
   ]
  },
  {
   "cell_type": "markdown",
   "metadata": {},
   "source": [
    "# Import and Cleaning"
   ]
  },
  {
   "cell_type": "code",
   "execution_count": 1,
   "metadata": {},
   "outputs": [],
   "source": [
    "from sklearn.datasets import load_boston\n",
    "import pandas as pd\n",
    "import os\n",
    "import numpy as np"
   ]
  },
  {
   "cell_type": "code",
   "execution_count": 2,
   "metadata": {},
   "outputs": [
    {
     "name": "stdout",
     "output_type": "stream",
     "text": [
      "C:\\Users\\noahl\\Data and Programming 2020 Spring\\My TA Materials\n"
     ]
    }
   ],
   "source": [
    "file_name = 'a_dataframe.csv'\n",
    "print(os.getcwd())"
   ]
  },
  {
   "cell_type": "code",
   "execution_count": 4,
   "metadata": {},
   "outputs": [
    {
     "name": "stdout",
     "output_type": "stream",
     "text": [
      "C:\\Users\\noahl\\Data and Programming 2020 Spring\\My TA Materials\\a_dataframe.csv\n",
      "C:\\Users\\noahl\\Data and Programming 2020 Spring\\My TA Materials\\a_dataframe.csv\n"
     ]
    }
   ],
   "source": [
    "# create path as a function of current working directory\n",
    "path_url_1 = os.path.abspath(file_name)\n",
    "path_url_2 = os.path.join(os.getcwd(), file_name)\n",
    "print(path_url_1)\n",
    "print(path_url_2)"
   ]
  },
  {
   "cell_type": "code",
   "execution_count": 5,
   "metadata": {},
   "outputs": [
    {
     "name": "stdout",
     "output_type": "stream",
     "text": [
      "No such file in the current working directory\n"
     ]
    }
   ],
   "source": [
    "try:\n",
    "    my_data = pd.read_csv(path_url_1)\n",
    "# Specify the expected error \n",
    "except FileNotFoundError:\n",
    "    print(\"No such file in the current working directory\")"
   ]
  },
  {
   "cell_type": "code",
   "execution_count": 15,
   "metadata": {},
   "outputs": [],
   "source": [
    "boston_dataset = load_boston()\n",
    "boston = pd.DataFrame(boston_dataset.data, columns=boston_dataset.feature_names)"
   ]
  },
  {
   "cell_type": "markdown",
   "metadata": {},
   "source": [
    "- CRIM: Per capita crime rate by town\n",
    "- ZN: Proportion of residential land zoned for lots over 25,000 sq. ft\n",
    "- INDUS: Proportion of non-retail business acres per town\n",
    "- CHAS: Charles River dummy variable (= 1 if tract bounds river; 0 otherwise)\n",
    "- NOX: Nitric oxide concentration (parts per 10 million)\n",
    "- RM: Average number of rooms per dwelling\n",
    "- AGE: Proportion of owner-occupied units built prior to 1940\n",
    "- DIS: Weighted distances to five Boston employment centers\n",
    "- RAD: Index of accessibility to radial highways\n",
    "- TAX: Full-value property tax rate per \\$10,000\n",
    "- PTRATIO: Pupil-teacher ratio by town\n",
    "- B: 1000(Bk — 0.63)², where Bk is the proportion of [people of African American descent] by town\n",
    "- LSTAT: Percentage of lower status of the population\n",
    "- MEDV: Median value of owner-occupied homes in $1000s"
   ]
  },
  {
   "cell_type": "code",
   "execution_count": 8,
   "metadata": {},
   "outputs": [
    {
     "name": "stdout",
     "output_type": "stream",
     "text": [
      "(506, 13)\n",
      "CRIM       float64\n",
      "ZN         float64\n",
      "INDUS      float64\n",
      "CHAS       float64\n",
      "NOX        float64\n",
      "RM         float64\n",
      "AGE        float64\n",
      "DIS        float64\n",
      "RAD        float64\n",
      "TAX        float64\n",
      "PTRATIO    float64\n",
      "B          float64\n",
      "LSTAT      float64\n",
      "dtype: object\n",
      "             CRIM          ZN       INDUS        CHAS         NOX          RM  \\\n",
      "count  506.000000  506.000000  506.000000  506.000000  506.000000  506.000000   \n",
      "mean     3.613524   11.363636   11.136779    0.069170    0.554695    6.284634   \n",
      "std      8.601545   23.322453    6.860353    0.253994    0.115878    0.702617   \n",
      "min      0.006320    0.000000    0.460000    0.000000    0.385000    3.561000   \n",
      "25%      0.082045    0.000000    5.190000    0.000000    0.449000    5.885500   \n",
      "50%      0.256510    0.000000    9.690000    0.000000    0.538000    6.208500   \n",
      "75%      3.677083   12.500000   18.100000    0.000000    0.624000    6.623500   \n",
      "max     88.976200  100.000000   27.740000    1.000000    0.871000    8.780000   \n",
      "\n",
      "              AGE         DIS         RAD         TAX     PTRATIO           B  \\\n",
      "count  506.000000  506.000000  506.000000  506.000000  506.000000  506.000000   \n",
      "mean    68.574901    3.795043    9.549407  408.237154   18.455534  356.674032   \n",
      "std     28.148861    2.105710    8.707259  168.537116    2.164946   91.294864   \n",
      "min      2.900000    1.129600    1.000000  187.000000   12.600000    0.320000   \n",
      "25%     45.025000    2.100175    4.000000  279.000000   17.400000  375.377500   \n",
      "50%     77.500000    3.207450    5.000000  330.000000   19.050000  391.440000   \n",
      "75%     94.075000    5.188425   24.000000  666.000000   20.200000  396.225000   \n",
      "max    100.000000   12.126500   24.000000  711.000000   22.000000  396.900000   \n",
      "\n",
      "            LSTAT  \n",
      "count  506.000000  \n",
      "mean    12.653063  \n",
      "std      7.141062  \n",
      "min      1.730000  \n",
      "25%      6.950000  \n",
      "50%     11.360000  \n",
      "75%     16.955000  \n",
      "max     37.970000  \n"
     ]
    }
   ],
   "source": [
    "print(boston.shape)\n",
    "print(boston.dtypes)\n",
    "print(boston.describe())"
   ]
  },
  {
   "cell_type": "code",
   "execution_count": 9,
   "metadata": {},
   "outputs": [
    {
     "name": "stdout",
     "output_type": "stream",
     "text": [
      "       CRIM    ZN  INDUS  CHAS    NOX     RM   AGE     DIS  RAD    TAX  \\\n",
      "0   0.00632  18.0   2.31   0.0  0.538  6.575  65.2  4.0900  1.0  296.0   \n",
      "1   0.02731   0.0   7.07   0.0  0.469  6.421  78.9  4.9671  2.0  242.0   \n",
      "2   0.02729   0.0   7.07   0.0  0.469  7.185  61.1  4.9671  2.0  242.0   \n",
      "3   0.03237   0.0   2.18   0.0  0.458  6.998  45.8  6.0622  3.0  222.0   \n",
      "4   0.06905   0.0   2.18   0.0  0.458  7.147  54.2  6.0622  3.0  222.0   \n",
      "..      ...   ...    ...   ...    ...    ...   ...     ...  ...    ...   \n",
      "95  0.12204   0.0   2.89   0.0  0.445  6.625  57.8  3.4952  2.0  276.0   \n",
      "96  0.11504   0.0   2.89   0.0  0.445  6.163  69.6  3.4952  2.0  276.0   \n",
      "97  0.12083   0.0   2.89   0.0  0.445  8.069  76.0  3.4952  2.0  276.0   \n",
      "98  0.08187   0.0   2.89   0.0  0.445  7.820  36.9  3.4952  2.0  276.0   \n",
      "99  0.06860   0.0   2.89   0.0  0.445  7.416  62.5  3.4952  2.0  276.0   \n",
      "\n",
      "    PTRATIO       B  LSTAT  \n",
      "0      15.3  396.90   4.98  \n",
      "1      17.8  396.90   9.14  \n",
      "2      17.8  392.83   4.03  \n",
      "3      18.7  394.63   2.94  \n",
      "4      18.7  396.90   5.33  \n",
      "..      ...     ...    ...  \n",
      "95     18.0  357.98   6.65  \n",
      "96     18.0  391.83  11.34  \n",
      "97     18.0  396.90   4.21  \n",
      "98     18.0  393.53   3.57  \n",
      "99     18.0  396.90   6.19  \n",
      "\n",
      "[100 rows x 13 columns]\n"
     ]
    }
   ],
   "source": [
    "# Try your code with a small sample\n",
    "sample = boston.head(100)\n",
    "print(sample)"
   ]
  },
  {
   "cell_type": "code",
   "execution_count": 17,
   "metadata": {},
   "outputs": [
    {
     "name": "stdout",
     "output_type": "stream",
     "text": [
      "      CRIM    ZN  INDUS  CHAS    NOX\n",
      "0  0.00632  18.0   2.31   0.0  0.538\n",
      "1  0.02731   0.0   7.07   0.0  0.469\n",
      "2  0.02729   0.0   7.07   0.0  0.469\n",
      "3  0.03237   0.0   2.18   0.0  0.458\n",
      "4  0.06905   0.0   2.18   0.0  0.458\n"
     ]
    }
   ],
   "source": [
    "crime_nox = boston.loc[:, 'CRIM':'NOX' ]\n",
    "print(crime_nox.head())"
   ]
  },
  {
   "cell_type": "code",
   "execution_count": 89,
   "metadata": {},
   "outputs": [
    {
     "data": {
      "text/plain": [
       "'\\n+------------+---------+--------+\\n|            |  A      |  B     |\\n+------------+---------+---------\\n|      0     | 0.626386| 1.52325|----axis=1----->\\n+------------+---------+--------+\\n             |         |\\n             | axis=0  |\\n             ↓         ↓\\n'"
      ]
     },
     "execution_count": 89,
     "metadata": {},
     "output_type": "execute_result"
    }
   ],
   "source": [
    "'''\n",
    "+------------+---------+--------+\n",
    "|            |  A      |  B     |\n",
    "+------------+---------+---------\n",
    "|      0     | 0.626386| 1.52325|----axis=1----->\n",
    "+------------+---------+--------+\n",
    "             |         |\n",
    "             | axis=0  |\n",
    "             ↓         ↓\n",
    "'''"
   ]
  },
  {
   "cell_type": "code",
   "execution_count": 10,
   "metadata": {},
   "outputs": [
    {
     "name": "stdout",
     "output_type": "stream",
     "text": [
      "CRIM         1828.44292\n",
      "ZN           5750.00000\n",
      "INDUS        5635.21000\n",
      "CHAS           35.00000\n",
      "NOX           280.67570\n",
      "RM           3180.02500\n",
      "AGE         34698.90000\n",
      "DIS          1920.29160\n",
      "RAD          4832.00000\n",
      "TAX        206568.00000\n",
      "PTRATIO      9338.50000\n",
      "B          180477.06000\n",
      "LSTAT        6402.45000\n",
      "dtype: float64\n",
      "0      810.89932\n",
      "1      765.69441\n",
      "2      739.47839\n",
      "3      702.80057\n",
      "4      716.04625\n",
      "         ...    \n",
      "501    787.39723\n",
      "502    798.63577\n",
      "503    810.24726\n",
      "504    806.02549\n",
      "505    801.66541\n",
      "Length: 506, dtype: float64\n"
     ]
    }
   ],
   "source": [
    "print(boston.apply(np.sum, axis=0))\n",
    "print(boston.apply(np.sum, axis=1))"
   ]
  },
  {
   "cell_type": "code",
   "execution_count": 18,
   "metadata": {},
   "outputs": [],
   "source": [
    "def cat_crime(c_rate):\n",
    "    if c_rate <= 0.082045:\n",
    "        return 'low'\n",
    "    elif (c_rate > 0.082045) & (c_rate <= 3.677083):\n",
    "        return 'medium'\n",
    "    else:\n",
    "        return 'high'\n",
    "boston.loc[:, 'CRIM'] = boston.loc[:, 'CRIM'].map(cat_crime)\n",
    "# Lambda function works fine too\n",
    "# boston.loc[:, 'CRIM'] = boston.loc[:, 'CRIM'].map(lambda x: cat_crime(x))"
   ]
  },
  {
   "cell_type": "code",
   "execution_count": 19,
   "metadata": {},
   "outputs": [
    {
     "name": "stdout",
     "output_type": "stream",
     "text": [
      "  CRIM    ZN  INDUS  CHAS    NOX     RM   AGE     DIS  RAD    TAX  PTRATIO  \\\n",
      "0  low  18.0   2.31   0.0  0.538  6.575  65.2  4.0900  1.0  296.0     15.3   \n",
      "1  low   0.0   7.07   0.0  0.469  6.421  78.9  4.9671  2.0  242.0     17.8   \n",
      "2  low   0.0   7.07   0.0  0.469  7.185  61.1  4.9671  2.0  242.0     17.8   \n",
      "3  low   0.0   2.18   0.0  0.458  6.998  45.8  6.0622  3.0  222.0     18.7   \n",
      "4  low   0.0   2.18   0.0  0.458  7.147  54.2  6.0622  3.0  222.0     18.7   \n",
      "\n",
      "        B  LSTAT  \n",
      "0  396.90   4.98  \n",
      "1  396.90   9.14  \n",
      "2  392.83   4.03  \n",
      "3  394.63   2.94  \n",
      "4  396.90   5.33  \n"
     ]
    }
   ],
   "source": [
    "print(boston.head())"
   ]
  },
  {
   "cell_type": "code",
   "execution_count": 21,
   "metadata": {},
   "outputs": [
    {
     "name": "stdout",
     "output_type": "stream",
     "text": [
      "['CRIM', 'ZN', 'INDUS', 'CHAS', 'NOX', 'RM', 'AGE', 'DIS', 'RAD', 'TAX', 'PTRATIO', 'B', 'LSTAT']\n"
     ]
    }
   ],
   "source": [
    "cols = boston.columns.tolist()\n",
    "print(cols)"
   ]
  },
  {
   "cell_type": "code",
   "execution_count": 22,
   "metadata": {},
   "outputs": [
    {
     "name": "stdout",
     "output_type": "stream",
     "text": [
      "     ZN  INDUS  CHAS    NOX     RM   AGE     DIS  RAD    TAX  PTRATIO       B  \\\n",
      "0  18.0   2.31   0.0  0.538  6.575  65.2  4.0900  1.0  296.0     15.3  396.90   \n",
      "1   0.0   7.07   0.0  0.469  6.421  78.9  4.9671  2.0  242.0     17.8  396.90   \n",
      "2   0.0   7.07   0.0  0.469  7.185  61.1  4.9671  2.0  242.0     17.8  392.83   \n",
      "3   0.0   2.18   0.0  0.458  6.998  45.8  6.0622  3.0  222.0     18.7  394.63   \n",
      "4   0.0   2.18   0.0  0.458  7.147  54.2  6.0622  3.0  222.0     18.7  396.90   \n",
      "\n",
      "   LSTAT CRIM  \n",
      "0   4.98  low  \n",
      "1   9.14  low  \n",
      "2   4.03  low  \n",
      "3   2.94  low  \n",
      "4   5.33  low  \n"
     ]
    }
   ],
   "source": [
    "cols = cols[1:] + cols[:1]\n",
    "# [start:stop:step]\n",
    "boston = boston[cols]\n",
    "# move the crime column to the end\n",
    "print(boston.head())"
   ]
  }
 ],
 "metadata": {
  "kernelspec": {
   "display_name": "Python 3",
   "language": "python",
   "name": "python3"
  },
  "language_info": {
   "codemirror_mode": {
    "name": "ipython",
    "version": 3
   },
   "file_extension": ".py",
   "mimetype": "text/x-python",
   "name": "python",
   "nbconvert_exporter": "python",
   "pygments_lexer": "ipython3",
   "version": "3.7.6"
  }
 },
 "nbformat": 4,
 "nbformat_minor": 4
}
